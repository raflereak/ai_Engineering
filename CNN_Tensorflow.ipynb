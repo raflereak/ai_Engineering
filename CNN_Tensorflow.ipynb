{
  "nbformat": 4,
  "nbformat_minor": 0,
  "metadata": {
    "colab": {
      "provenance": [],
      "collapsed_sections": [
        "pD-lmOTvbWl9",
        "YnfY8o8GbWmQ",
        "WukwwtL1bWmg",
        "GtMuabYGbWnH",
        "FTWyGDYybWnW",
        "zZgq7adjbWne",
        "7bb5gcdfbWoE",
        "_LPmCqh9bWoN",
        "itH2eIVLbWoS",
        "0u6672_tbWpC"
      ]
    },
    "kernelspec": {
      "name": "python3",
      "display_name": "Python 3"
    },
    "accelerator": "GPU"
  },
  "cells": [
    {
      "metadata": {
        "id": "qfJ66TGebWjf"
      },
      "cell_type": "markdown",
      "source": [
        "# CNN (Convolutional Neural Network)\n",
        "We will implement very basic CNN with MNIST dataset."
      ]
    },
    {
      "metadata": {
        "id": "BhS2UAMEbthG"
      },
      "cell_type": "markdown",
      "source": [
        "[![Open In Colab](https://colab.research.google.com/assets/colab-badge.svg)](https://colab.research.google.com/github/minsuk-heo/deeplearning/blob/master/src/CNN_Tensorflow.ipynb)"
      ]
    },
    {
      "metadata": {
        "id": "rsO1tGw_bWjn"
      },
      "cell_type": "code",
      "source": [
        "from IPython.display import Image"
      ],
      "execution_count": 69,
      "outputs": []
    },
    {
      "metadata": {
        "id": "gc8BROLIbWjw"
      },
      "cell_type": "markdown",
      "source": [
        "## Why CNN for image recognition?\n",
        "Think about you use MLP (multi layer perceptron) for image recognition.  \n",
        "You can recall how MLP works from below picture.  \n",
        "MLP changes image shape from 2d(matrix) to 1d(array) and fully connect all nodes to get prediction.  \n",
        "Take a moment to see difference between two different inputs in which both target numbers are equally '2'"
      ]
    },
    {
      "metadata": {
        "id": "pGNJmts2bWj1",
        "colab": {
          "base_uri": "https://localhost:8080/",
          "height": 271
        },
        "outputId": "8e245eca-a22c-4879-ecde-0ded019581b6"
      },
      "cell_type": "code",
      "source": [
        "Image(url= \"https://raw.githubusercontent.com/minsuk-heo/deeplearning/master/img/mlp_overview.png\", width=500, height=250)"
      ],
      "execution_count": 70,
      "outputs": [
        {
          "output_type": "execute_result",
          "data": {
            "text/html": [
              "<img src=\"https://raw.githubusercontent.com/minsuk-heo/deeplearning/master/img/mlp_overview.png\" width=\"500\" height=\"250\"/>"
            ],
            "text/plain": [
              "<IPython.core.display.Image object>"
            ]
          },
          "metadata": {},
          "execution_count": 70
        }
      ]
    },
    {
      "metadata": {
        "id": "hsDk552obWkB",
        "colab": {
          "base_uri": "https://localhost:8080/",
          "height": 271
        },
        "outputId": "65dff367-e1cf-4fb0-b8e5-4335740002ee"
      },
      "cell_type": "code",
      "source": [
        "Image(url= \"https://raw.githubusercontent.com/minsuk-heo/deeplearning/master/img/mlp_overview2.png\", width=500, height=250)"
      ],
      "execution_count": 71,
      "outputs": [
        {
          "output_type": "execute_result",
          "data": {
            "text/html": [
              "<img src=\"https://raw.githubusercontent.com/minsuk-heo/deeplearning/master/img/mlp_overview2.png\" width=\"500\" height=\"250\"/>"
            ],
            "text/plain": [
              "<IPython.core.display.Image object>"
            ]
          },
          "metadata": {},
          "execution_count": 71
        }
      ]
    },
    {
      "metadata": {
        "id": "RYfH9yyfbWkL"
      },
      "cell_type": "markdown",
      "source": [
        "Even though they have same target number('2'), as you can see the **input arrays are very different.**  \n",
        "Since MLP only knows input array, it is hard for MLP to learn these two numbers have same target.  \n",
        "As a solution for this, you can introduce more nodes in the MLP, but this solution easily results in high computation, longer train.\n",
        "\n",
        "MLP's issue:  \n",
        "1) when number is written in different pixels, input for MLP is totally different.    \n",
        "2) having many nodes results in high computation and longer train time."
      ]
    },
    {
      "metadata": {
        "id": "XWiK1r8YbWkN"
      },
      "cell_type": "markdown",
      "source": [
        "## How do you recognize a thing?\n",
        "In order to resolve MLP's issue, let's think how we actually recognize a number.  \n",
        "If you look at number '2', how do you know it is 2?  \n",
        "Your brain consciously or inconsciously recognize head and tail of number 2 and diagonal connector between head and tail, just like below pictures. "
      ]
    },
    {
      "metadata": {
        "id": "JuLUBshSbWkO",
        "colab": {
          "base_uri": "https://localhost:8080/",
          "height": 271
        },
        "outputId": "53625efb-1ec3-4a3b-db0b-6d65894bf511"
      },
      "cell_type": "code",
      "source": [
        "Image(url= \"https://raw.githubusercontent.com/minsuk-heo/deeplearning/master/img/cnn_filter.png\", width=500, height=250)"
      ],
      "execution_count": 72,
      "outputs": [
        {
          "output_type": "execute_result",
          "data": {
            "text/html": [
              "<img src=\"https://raw.githubusercontent.com/minsuk-heo/deeplearning/master/img/cnn_filter.png\" width=\"500\" height=\"250\"/>"
            ],
            "text/plain": [
              "<IPython.core.display.Image object>"
            ]
          },
          "metadata": {},
          "execution_count": 72
        }
      ]
    },
    {
      "metadata": {
        "id": "xKymVa4tbWkX"
      },
      "cell_type": "markdown",
      "source": [
        "## CNN is recognizing a thing just like you!\n",
        "CNN recognize an object just like you. CNN is trained to capture features of object (in this case, head, tail, connector, edge) and recognize the number."
      ]
    },
    {
      "metadata": {
        "id": "tGvWqczvbWkY"
      },
      "cell_type": "markdown",
      "source": [
        "## How CNN identify features?\n",
        "In contrast to MLP, CNN uses 2 dimension information in order to capture local connectivity such as head, tail, connector.  \n",
        "\n",
        "here is how CNN finds features of object.\n",
        "\n"
      ]
    },
    {
      "metadata": {
        "id": "shgWw0XubWkb",
        "colab": {
          "base_uri": "https://localhost:8080/",
          "height": 271
        },
        "outputId": "6da1ead2-0ae0-4dba-b6ed-3760118c17b5"
      },
      "cell_type": "code",
      "source": [
        "Image(url= \"https://raw.githubusercontent.com/minsuk-heo/deeplearning/master/img/stride.png\", width=500, height=250)"
      ],
      "execution_count": 73,
      "outputs": [
        {
          "output_type": "execute_result",
          "data": {
            "text/html": [
              "<img src=\"https://raw.githubusercontent.com/minsuk-heo/deeplearning/master/img/stride.png\" width=\"500\" height=\"250\"/>"
            ],
            "text/plain": [
              "<IPython.core.display.Image object>"
            ]
          },
          "metadata": {},
          "execution_count": 73
        }
      ]
    },
    {
      "metadata": {
        "id": "AHtJ7ZI8bWkk"
      },
      "cell_type": "markdown",
      "source": [
        "### stride, filter, receptive field\n",
        "As you can see from above picture, CNN slides filter from the top left to the bottom right.  \n",
        "Sliding filter is called **stride**.    \n",
        "**Filter** is feature identifier, sometimes called **kernel**,  \n",
        "and we call the area where filter stays a **receptive field**.  \n",
        "the filter from above picture is to identify diagonal connected pixel.  \n",
        "\n",
        "From below picture, you can see the filter detects two diagonal connected pixels from left input (digit 2),  \n",
        "while there is no diagonal connected pixels frin right input (digit 1)."
      ]
    },
    {
      "metadata": {
        "id": "LR_iwoK-bWkq",
        "colab": {
          "base_uri": "https://localhost:8080/",
          "height": 271
        },
        "outputId": "b761c207-dab0-4c97-daa8-e9ae58cd06ff"
      },
      "cell_type": "code",
      "source": [
        "Image(url= \"https://raw.githubusercontent.com/minsuk-heo/deeplearning/master/img/filter_diff.png\", width=500, height=250)"
      ],
      "execution_count": 74,
      "outputs": [
        {
          "output_type": "execute_result",
          "data": {
            "text/html": [
              "<img src=\"https://raw.githubusercontent.com/minsuk-heo/deeplearning/master/img/filter_diff.png\" width=\"500\" height=\"250\"/>"
            ],
            "text/plain": [
              "<IPython.core.display.Image object>"
            ]
          },
          "metadata": {},
          "execution_count": 74
        }
      ]
    },
    {
      "metadata": {
        "id": "uZSVmwkWbWk2"
      },
      "cell_type": "markdown",
      "source": [
        "As you know CNN is just mathmetical model, we haven't talk math behind intuitive example.  \n",
        "Suppose our image is gray scale image, the pixel will be represented number between 0 to 255.  \n",
        "0 means white color and 255 means black color just like below picture.  "
      ]
    },
    {
      "metadata": {
        "id": "u6Y41ut_bWk4",
        "colab": {
          "base_uri": "https://localhost:8080/",
          "height": 271
        },
        "outputId": "3880bd59-6fff-4868-bf46-0f0ff24760e8"
      },
      "cell_type": "code",
      "source": [
        "Image(url= \"https://raw.githubusercontent.com/minsuk-heo/deeplearning/master/img/elem_mul.png\", width=500, height=250)"
      ],
      "execution_count": 75,
      "outputs": [
        {
          "output_type": "execute_result",
          "data": {
            "text/html": [
              "<img src=\"https://raw.githubusercontent.com/minsuk-heo/deeplearning/master/img/elem_mul.png\" width=\"500\" height=\"250\"/>"
            ],
            "text/plain": [
              "<IPython.core.display.Image object>"
            ]
          },
          "metadata": {},
          "execution_count": 75
        }
      ]
    },
    {
      "metadata": {
        "id": "hs6pfLAybWlp"
      },
      "cell_type": "markdown",
      "source": [
        "As you can see from above pictures, the filter detects feature by element-wise multiplication of filter and receptive field numbers.  \n",
        "Larger number means the area has more chance to have the feature,  \n",
        "Less number means the area has less chance to have the feature."
      ]
    },
    {
      "metadata": {
        "id": "y-wMNVCUbWlr"
      },
      "cell_type": "markdown",
      "source": [
        "In order to detect your target, for example, here to detect number between 0 to 9,  \n",
        "you will need more filters such as straight line, vertical line, curve line.  \n",
        "your **first convolutional layer** will detect these essential features and  \n",
        "the **next convolutional layers** can detect more high level such as circle, triangle, rectangle based on the previous detected features.  \n",
        "After detecting all features, these features will be input to MLP (full connected layers) and end up with softmax to classify input to target value."
      ]
    },
    {
      "metadata": {
        "id": "_JL8neKdbWlr"
      },
      "cell_type": "markdown",
      "source": [
        "here is one of famous CNN architecture from Stanford CNN lecture slide."
      ]
    },
    {
      "metadata": {
        "id": "CaQWF9x-bWlv",
        "colab": {
          "base_uri": "https://localhost:8080/",
          "height": 271
        },
        "outputId": "ff24006d-69ca-4194-96e3-072ad4d3ec9c"
      },
      "cell_type": "code",
      "source": [
        "Image(url= \"https://raw.githubusercontent.com/minsuk-heo/deeplearning/master/img/cnn_architecture.png\", width=500, height=250)"
      ],
      "execution_count": 76,
      "outputs": [
        {
          "output_type": "execute_result",
          "data": {
            "text/html": [
              "<img src=\"https://raw.githubusercontent.com/minsuk-heo/deeplearning/master/img/cnn_architecture.png\" width=\"500\" height=\"250\"/>"
            ],
            "text/plain": [
              "<IPython.core.display.Image object>"
            ]
          },
          "metadata": {},
          "execution_count": 76
        }
      ]
    },
    {
      "metadata": {
        "id": "b_b8nU_SbWl7"
      },
      "cell_type": "markdown",
      "source": [
        "citation:\n",
        "source from http://cs231n.github.io/convolutional-networks/"
      ]
    },
    {
      "metadata": {
        "id": "DvFWTJlDbWl8"
      },
      "cell_type": "markdown",
      "source": [
        "CONV stands for convolutioal layer which we have learned so far.  \n",
        "Also you can find FC which is fully connected layer for classifying input to given target.\n",
        "In this picture, you can see RELU as activation function of convolutional layer. we will also use RELU for our tensorflow practice in this jupyter notebook.  \n",
        "\n",
        "The only one term we haven't talk is POOL which is pooling layer."
      ]
    },
    {
      "metadata": {
        "id": "pD-lmOTvbWl9"
      },
      "cell_type": "markdown",
      "source": [
        "### pulling layer\n",
        "The main purpose of having pulling layer is to reduce parameters and computtations of CNN model.  \n",
        "Therefore, controlling overfitting.\n",
        "\n",
        "From our stride example of digit 2 (when stride is 1),  \n",
        "the output of stride of the diagonal filter (we call it **feature map**) is below,  \n",
        "FYI, Relu(feature map) is called a **actvation map**."
      ]
    },
    {
      "metadata": {
        "id": "OgY9Ob7PbWl_",
        "colab": {
          "base_uri": "https://localhost:8080/",
          "height": 0
        },
        "outputId": "5778aedd-9c0b-4e91-c59a-119493a1a5cd"
      },
      "cell_type": "code",
      "source": [
        "Image(url= \"https://raw.githubusercontent.com/minsuk-heo/deeplearning/master/img/stride_result.png\", width=500, height=250)"
      ],
      "execution_count": 77,
      "outputs": [
        {
          "output_type": "execute_result",
          "data": {
            "text/html": [
              "<img src=\"https://raw.githubusercontent.com/minsuk-heo/deeplearning/master/img/stride_result.png\" width=\"500\" height=\"250\"/>"
            ],
            "text/plain": [
              "<IPython.core.display.Image object>"
            ]
          },
          "metadata": {},
          "execution_count": 77
        }
      ]
    },
    {
      "metadata": {
        "id": "WtDiOwyvbWmD"
      },
      "cell_type": "markdown",
      "source": [
        "When you apply pooling, you can use either **max pooling** or **average pooling**.  \n",
        "Here is an example of max pooling (2*2 filter and stride 2)."
      ]
    },
    {
      "metadata": {
        "id": "i9B0_NoXbWmF",
        "colab": {
          "base_uri": "https://localhost:8080/",
          "height": 0
        },
        "outputId": "c08a97e6-7da4-4753-fcbd-4299b4ce3cb6"
      },
      "cell_type": "code",
      "source": [
        "Image(url= \"https://raw.githubusercontent.com/minsuk-heo/deeplearning/master/img/max_pool.png\", width=500, height=250)"
      ],
      "execution_count": 78,
      "outputs": [
        {
          "output_type": "execute_result",
          "data": {
            "text/html": [
              "<img src=\"https://raw.githubusercontent.com/minsuk-heo/deeplearning/master/img/max_pool.png\" width=\"500\" height=\"250\"/>"
            ],
            "text/plain": [
              "<IPython.core.display.Image object>"
            ]
          },
          "metadata": {},
          "execution_count": 78
        }
      ]
    },
    {
      "metadata": {
        "id": "5FizQl1xbWmO"
      },
      "cell_type": "markdown",
      "source": [
        "As you can see, the output of convolutional layer decreased from (4 x 4) to (2 x 2).  \n",
        "Decreasing feature map results in reducing the number of parameters and computation time.  \n",
        "Also by reducing the number of parameters, it gives control of **overfitting**."
      ]
    },
    {
      "metadata": {
        "id": "YnfY8o8GbWmQ"
      },
      "cell_type": "markdown",
      "source": [
        "### zero padding\n",
        "Lastly, I should give you insights of zero padding while it is not shown at Stanford CNN architecture diagram.  \n",
        "Zero padding is mostly applied on recent CNN with mainly two reasons below,  \n",
        "1) reduce information loss from convolutional layer.   \n",
        "2) let the CNN knows where is the boundary of the input."
      ]
    },
    {
      "metadata": {
        "id": "oNoEVq9qbWmR"
      },
      "cell_type": "markdown",
      "source": [
        "Let's revisit convolutional layer. As you can see from below image,  \n",
        "The output dimension (4 x 4) is less than input dimension (5 x 5). That said, we lose some info at each convonlutional layer."
      ]
    },
    {
      "metadata": {
        "id": "eU0zC9M3bWmU",
        "colab": {
          "base_uri": "https://localhost:8080/",
          "height": 0
        },
        "outputId": "7b2a5927-dad3-4410-ae73-9bbd3c0ca04a"
      },
      "cell_type": "code",
      "source": [
        "Image(url= \"https://raw.githubusercontent.com/minsuk-heo/deeplearning/master/img/zeropadding1.png\", width=500, height=250)"
      ],
      "execution_count": 79,
      "outputs": [
        {
          "output_type": "execute_result",
          "data": {
            "text/html": [
              "<img src=\"https://raw.githubusercontent.com/minsuk-heo/deeplearning/master/img/zeropadding1.png\" width=\"500\" height=\"250\"/>"
            ],
            "text/plain": [
              "<IPython.core.display.Image object>"
            ]
          },
          "metadata": {},
          "execution_count": 79
        }
      ]
    },
    {
      "metadata": {
        "id": "i1dEOkUQbWma"
      },
      "cell_type": "markdown",
      "source": [
        "Take a look below picture. Zero Padding gives more space to stride.  \n",
        "If your filter size is (3 X 3) and stride 1 pixel at a time, the output dimension will be (5 x 5)  \n",
        "which is exactly same with original input."
      ]
    },
    {
      "metadata": {
        "id": "hO9Jdp4pbWmd",
        "colab": {
          "base_uri": "https://localhost:8080/",
          "height": 0
        },
        "outputId": "cd96d9fb-83a4-4197-bee0-e6077c799ac2"
      },
      "cell_type": "code",
      "source": [
        "Image(url= \"https://raw.githubusercontent.com/minsuk-heo/deeplearning/master/img/zeropadding.png\", width=500, height=250)"
      ],
      "execution_count": 80,
      "outputs": [
        {
          "output_type": "execute_result",
          "data": {
            "text/html": [
              "<img src=\"https://raw.githubusercontent.com/minsuk-heo/deeplearning/master/img/zeropadding.png\" width=\"500\" height=\"250\"/>"
            ],
            "text/plain": [
              "<IPython.core.display.Image object>"
            ]
          },
          "metadata": {},
          "execution_count": 80
        }
      ]
    },
    {
      "metadata": {
        "id": "WukwwtL1bWmg"
      },
      "cell_type": "markdown",
      "source": [
        "### what if image is color image?"
      ]
    },
    {
      "metadata": {
        "id": "jXx-lPFmbWmi"
      },
      "cell_type": "markdown",
      "source": [
        "In this Jupyter Notebook, I use MNIST which is gray scale image, however there are a lot more chance you will handle color image which is composed with RGB color. This is very easy problem if you think color image is just overlapped three layers.  \n",
        "if you have 10 gray scale image which is 28 * 28 pixel, your input tensor is (10,28,28,1). because you only have one color.  \n",
        "if you have 10 RGB color image which is 28 * 28 pixel, your input tensor is (10,28,28,3).  because you have three colors."
      ]
    },
    {
      "metadata": {
        "id": "ZQ2tBDhxbWmj",
        "colab": {
          "base_uri": "https://localhost:8080/",
          "height": 0
        },
        "outputId": "371e2ec5-91eb-45ad-da3e-55007ad1f828"
      },
      "cell_type": "code",
      "source": [
        "Image(url= \"https://raw.githubusercontent.com/minsuk-heo/deeplearning/master/img/rgb.png\", width=500, height=250)"
      ],
      "execution_count": 81,
      "outputs": [
        {
          "output_type": "execute_result",
          "data": {
            "text/html": [
              "<img src=\"https://raw.githubusercontent.com/minsuk-heo/deeplearning/master/img/rgb.png\" width=\"500\" height=\"250\"/>"
            ],
            "text/plain": [
              "<IPython.core.display.Image object>"
            ]
          },
          "metadata": {},
          "execution_count": 81
        }
      ]
    },
    {
      "metadata": {
        "id": "NRl5JBvYbWmq"
      },
      "cell_type": "markdown",
      "source": [
        "from above picture, you can double check the color image is just overlapped three color layers.  \n",
        "We call the overlapped layers a **depth**.\n",
        "let's take a look how one filter work on three color layers from below image.  \n",
        "You can find one filter has three sub filters. sub filters will stride and each stide will be summed up (plus bias) to one pixel in a feature map."
      ]
    },
    {
      "metadata": {
        "id": "pfd0zSl0bWms",
        "colab": {
          "base_uri": "https://localhost:8080/",
          "height": 0
        },
        "outputId": "870137b4-0537-4848-c7f0-28558383d9c7"
      },
      "cell_type": "code",
      "source": [
        "Image(url= \"https://raw.githubusercontent.com/minsuk-heo/deeplearning/master/img/rgb1.png\", width=500, height=250)"
      ],
      "execution_count": 82,
      "outputs": [
        {
          "output_type": "execute_result",
          "data": {
            "text/html": [
              "<img src=\"https://raw.githubusercontent.com/minsuk-heo/deeplearning/master/img/rgb1.png\" width=\"500\" height=\"250\"/>"
            ],
            "text/plain": [
              "<IPython.core.display.Image object>"
            ]
          },
          "metadata": {},
          "execution_count": 82
        }
      ]
    },
    {
      "metadata": {
        "id": "ATOkO2ENbWm0",
        "colab": {
          "base_uri": "https://localhost:8080/",
          "height": 0
        },
        "outputId": "32022744-8082-4fbb-abcc-46e0cdfbce91"
      },
      "cell_type": "code",
      "source": [
        "Image(url= \"https://raw.githubusercontent.com/minsuk-heo/deeplearning/master/img/rgb2.png\", width=500, height=250)"
      ],
      "execution_count": 83,
      "outputs": [
        {
          "output_type": "execute_result",
          "data": {
            "text/html": [
              "<img src=\"https://raw.githubusercontent.com/minsuk-heo/deeplearning/master/img/rgb2.png\" width=\"500\" height=\"250\"/>"
            ],
            "text/plain": [
              "<IPython.core.display.Image object>"
            ]
          },
          "metadata": {},
          "execution_count": 83
        }
      ]
    },
    {
      "metadata": {
        "id": "nRZ8-WkdbWm8"
      },
      "cell_type": "markdown",
      "source": [
        "As you can see from above picture, each filter output is one feature map.  \n",
        "Therefore, if you have 10 filters at first convolutional layer, the next layer's input will have **depth** 10."
      ]
    },
    {
      "metadata": {
        "id": "HSbOIGqRbWm-"
      },
      "cell_type": "markdown",
      "source": [
        "## Train\n",
        "Let's resume entire CNN architecture to talk about Training."
      ]
    },
    {
      "metadata": {
        "id": "49oxF9zibWm_",
        "colab": {
          "base_uri": "https://localhost:8080/",
          "height": 271
        },
        "outputId": "4a26b5c3-6a75-44e7-c9d0-28d081ecadec"
      },
      "cell_type": "code",
      "source": [
        "Image(url= \"https://raw.githubusercontent.com/minsuk-heo/deeplearning/master/img/cnn_train.png\", width=500, height=250)"
      ],
      "execution_count": 84,
      "outputs": [
        {
          "output_type": "execute_result",
          "data": {
            "text/html": [
              "<img src=\"https://raw.githubusercontent.com/minsuk-heo/deeplearning/master/img/cnn_train.png\" width=\"500\" height=\"250\"/>"
            ],
            "text/plain": [
              "<IPython.core.display.Image object>"
            ]
          },
          "metadata": {},
          "execution_count": 84
        }
      ]
    },
    {
      "metadata": {
        "id": "axOTmXIybWnF"
      },
      "cell_type": "markdown",
      "source": [
        "As you can see from above picture, if input is color image, the depth is 3, that is why you can see three layer at the input.  \n",
        "First Convolution layer has four filters that is why you have four layers at Conv1.  \n",
        "Second Convolution layer has three filters that is why you have three layers at Conv2.\n",
        "Pooling layer has stride size 2, that is why you have (2 x 2) feature maps.  \n",
        "Flatten will have 2 x 2 x 3 = 12 values in an array as an input to fully connected layer.  \n",
        "Theorically, convolution layers identify features.  \n",
        "Fully Connected Layer classify input using all identified features.  \n",
        "CNN is supervised learning, by giving target value, CNN will use back propagation to optimize parameters at convolution layers, fully connected layer."
      ]
    },
    {
      "metadata": {
        "id": "GtMuabYGbWnH"
      },
      "cell_type": "markdown",
      "source": [
        "### Parameter Optimization\n",
        "The purpose of training is to optimize parameters of filter and parameters of fully connected layer(FC).  \n",
        "Initially we give random value for these parameters, but the CNN keep update parameters using backpropagation in order to have meaningful filters an FC.  \n",
        "Yes, initially the CNN even don't know which filter to have (head, tail, diagonal connector), the CNN will automatically know which filter to have during training.  \n",
        "By minimizing the difference between target and output, the CNN will eventually have meaningful filters (head, tail, diagonal connector, round, triangle) and also meaningful classifier with these feature maps.  \n",
        "Parameters (W in the below picture) can be optimized using gradience descent algorithm by minimizing difference between target and output (Loss in the below picture). The local minimum value of Loss is where derivative Loss with respect to W is 0. Therefore everytime we update W, we slightly update W with negative direction of derivative and find local minimum. "
      ]
    },
    {
      "metadata": {
        "id": "0UOedmHzbWnH",
        "colab": {
          "base_uri": "https://localhost:8080/",
          "height": 0
        },
        "outputId": "d4c68773-cc24-4e55-82b1-2ecb6dd86969"
      },
      "cell_type": "code",
      "source": [
        "Image(url= \"https://raw.githubusercontent.com/minsuk-heo/deeplearning/master/img/sgd.png\", width=300, height=150)"
      ],
      "execution_count": 85,
      "outputs": [
        {
          "output_type": "execute_result",
          "data": {
            "text/html": [
              "<img src=\"https://raw.githubusercontent.com/minsuk-heo/deeplearning/master/img/sgd.png\" width=\"300\" height=\"150\"/>"
            ],
            "text/plain": [
              "<IPython.core.display.Image object>"
            ]
          },
          "metadata": {},
          "execution_count": 85
        }
      ]
    },
    {
      "metadata": {
        "id": "2TOSYmMsbWnO"
      },
      "cell_type": "markdown",
      "source": [
        "## Tensorflow implementation\n",
        "Let's implement CNN using Tensorflow for identify handwritten number in MNIST dataset."
      ]
    },
    {
      "metadata": {
        "id": "xCrg0FHKbWnO",
        "colab": {
          "base_uri": "https://localhost:8080/",
          "height": 221
        },
        "outputId": "f0ab6c8d-b97c-4d69-dba3-086ae3438d5e"
      },
      "cell_type": "code",
      "source": [
        "Image(url= \"https://raw.githubusercontent.com/minsuk-heo/deeplearning/master/img/practice_cnn.png\", width=800, height=200)"
      ],
      "execution_count": 86,
      "outputs": [
        {
          "output_type": "execute_result",
          "data": {
            "text/html": [
              "<img src=\"https://raw.githubusercontent.com/minsuk-heo/deeplearning/master/img/practice_cnn.png\" width=\"800\" height=\"200\"/>"
            ],
            "text/plain": [
              "<IPython.core.display.Image object>"
            ]
          },
          "metadata": {},
          "execution_count": 86
        }
      ]
    },
    {
      "metadata": {
        "id": "mDMz5e3EbWnS"
      },
      "cell_type": "code",
      "source": [
        "import tensorflow as tf\n",
        "\n",
        "import tensorflow.compat.v1 as tf\n",
        "tf.disable_v2_behavior()"
      ],
      "execution_count": 87,
      "outputs": []
    },
    {
      "metadata": {
        "id": "FTWyGDYybWnW"
      },
      "cell_type": "markdown",
      "source": [
        "### collect data"
      ]
    },
    {
      "metadata": {
        "id": "GuPiPokgbWnY"
      },
      "cell_type": "code",
      "source": [
        "(x_train, y_train), (x_test, y_test) = tf.keras.datasets.mnist.load_data()"
      ],
      "execution_count": 88,
      "outputs": []
    },
    {
      "metadata": {
        "id": "YoTEgAI0bWnd"
      },
      "cell_type": "markdown",
      "source": [
        "train data has **60000** samples  \n",
        "test data has **10000** samples   \n",
        "every data is **28 * 28** pixels  \n",
        "\n",
        "below image shows 28*28 pixel image sample for hand written number '0' from MNIST data.  \n",
        "MNIST is gray scale image [0 to 255] for hand written number."
      ]
    },
    {
      "metadata": {
        "id": "S_ADM7kDbWne"
      },
      "cell_type": "markdown",
      "source": [
        "![0 from MNIST](https://raw.githubusercontent.com/minsuk-heo/deeplearning/master/img/mnist_sample.png)"
      ]
    },
    {
      "metadata": {
        "id": "zZgq7adjbWne"
      },
      "cell_type": "markdown",
      "source": [
        "### Split train data into train and validation data\n",
        "Split train data into train data and validation data, in order to check validation accuracy."
      ]
    },
    {
      "metadata": {
        "id": "WHYlsxf0bWnf"
      },
      "cell_type": "code",
      "source": [
        "x_val  = x_train[50000:60000]\n",
        "x_train = x_train[0:50000]\n",
        "y_val  = y_train[50000:60000]\n",
        "y_train = y_train[0:50000]"
      ],
      "execution_count": 89,
      "outputs": []
    },
    {
      "metadata": {
        "id": "u3gIU17sbWni",
        "colab": {
          "base_uri": "https://localhost:8080/"
        },
        "outputId": "a0d9137a-8e4e-413d-99c8-9ebc88636866"
      },
      "cell_type": "code",
      "source": [
        "print(\"train data has \" + str(x_train.shape[0]) + \" samples\")\n",
        "print(\"every train data is \" + str(x_train.shape[1]) \n",
        "      + \" * \" + str(x_train.shape[2]) + \" image\")"
      ],
      "execution_count": 90,
      "outputs": [
        {
          "output_type": "stream",
          "name": "stdout",
          "text": [
            "train data has 50000 samples\n",
            "every train data is 28 * 28 image\n"
          ]
        }
      ]
    },
    {
      "metadata": {
        "id": "Ah0By3A8bWno",
        "colab": {
          "base_uri": "https://localhost:8080/"
        },
        "outputId": "a37af335-553a-47a7-807f-33cad3602425"
      },
      "cell_type": "code",
      "source": [
        "print(\"validation data has \" + str(x_val.shape[0]) + \" samples\")\n",
        "print(\"every train data is \" + str(x_val.shape[1]) \n",
        "      + \" * \" + str(x_train.shape[2]) + \" image\")"
      ],
      "execution_count": 91,
      "outputs": [
        {
          "output_type": "stream",
          "name": "stdout",
          "text": [
            "validation data has 10000 samples\n",
            "every train data is 28 * 28 image\n"
          ]
        }
      ]
    },
    {
      "metadata": {
        "id": "x0M8vnRDbWnu"
      },
      "cell_type": "markdown",
      "source": [
        "28 * 28 pixels has gray scale value from **0** to **255**"
      ]
    },
    {
      "metadata": {
        "id": "mGdzv1vmbWnv",
        "colab": {
          "base_uri": "https://localhost:8080/"
        },
        "outputId": "7da26fa1-ea0f-4cc0-bc2c-69fb1d47f952"
      },
      "cell_type": "code",
      "source": [
        "# sample to show gray scale values\n",
        "print(x_train[0][8])"
      ],
      "execution_count": 92,
      "outputs": [
        {
          "output_type": "stream",
          "name": "stdout",
          "text": [
            "[  0   0   0   0   0   0   0  18 219 253 253 253 253 253 198 182 247 241\n",
            "   0   0   0   0   0   0   0   0   0   0]\n"
          ]
        }
      ]
    },
    {
      "metadata": {
        "id": "IaXBb_cIbWnz"
      },
      "cell_type": "markdown",
      "source": [
        "each train data has its label **0** to **9**"
      ]
    },
    {
      "metadata": {
        "id": "yVtIT0eFbWn1",
        "colab": {
          "base_uri": "https://localhost:8080/"
        },
        "outputId": "c3c38ca9-8676-4dd9-b53c-314fba5f7055"
      },
      "cell_type": "code",
      "source": [
        "# sample to show labels for first train data to 10th train data\n",
        "print(y_train[0:9])"
      ],
      "execution_count": 93,
      "outputs": [
        {
          "output_type": "stream",
          "name": "stdout",
          "text": [
            "[5 0 4 1 9 2 1 3 1]\n"
          ]
        }
      ]
    },
    {
      "metadata": {
        "id": "mNHsR1EvbWoA"
      },
      "cell_type": "markdown",
      "source": [
        "test data has **10000** samples  \n",
        "every test data is **28 * 28** image  "
      ]
    },
    {
      "metadata": {
        "id": "NWZz_ESMbWoA",
        "colab": {
          "base_uri": "https://localhost:8080/"
        },
        "outputId": "ea394eaf-a5a2-4bfb-e3dc-078ca11e379a"
      },
      "cell_type": "code",
      "source": [
        "print(\"test data has \" + str(x_test.shape[0]) + \" samples\")\n",
        "print(\"every test data is \" + str(x_test.shape[1]) \n",
        "      + \" * \" + str(x_test.shape[2]) + \" image\")"
      ],
      "execution_count": 94,
      "outputs": [
        {
          "output_type": "stream",
          "name": "stdout",
          "text": [
            "test data has 10000 samples\n",
            "every test data is 28 * 28 image\n"
          ]
        }
      ]
    },
    {
      "metadata": {
        "id": "7bb5gcdfbWoE"
      },
      "cell_type": "markdown",
      "source": [
        "### Reshape\n",
        "We reshape x_train to be fitted in tf model."
      ]
    },
    {
      "metadata": {
        "id": "hwbmpPUNbWoH",
        "colab": {
          "base_uri": "https://localhost:8080/"
        },
        "outputId": "8921cec0-8301-4d45-98d5-a54819522ee3"
      },
      "cell_type": "code",
      "source": [
        "import numpy as np\n",
        "x_train = np.reshape(x_train, (50000,28,28,1))\n",
        "x_val = np.reshape(x_val, (10000,28,28,1))\n",
        "x_test = np.reshape(x_test, (10000,28,28,1))\n",
        "\n",
        "print(x_train.shape)\n",
        "print(x_test.shape)"
      ],
      "execution_count": 95,
      "outputs": [
        {
          "output_type": "stream",
          "name": "stdout",
          "text": [
            "(50000, 28, 28, 1)\n",
            "(10000, 28, 28, 1)\n"
          ]
        }
      ]
    },
    {
      "metadata": {
        "id": "_LPmCqh9bWoN"
      },
      "cell_type": "markdown",
      "source": [
        "### Normalize data\n",
        "normalization usually helps faster learning speed, better performance  \n",
        "by reducing variance and giving same range to all input features.  \n",
        "since MNIST data set all input has 0 to 255, normalization only helps reducing variances.  \n",
        "it turned out normalization is better than standardization for MNIST data with my MLP architeture,    \n",
        "I believe this is because relu handles 0 differently on both feed forward and back propagation.  \n",
        "handling 0 differently is important for MNIST, since 1-255 means there is some hand written,  \n",
        "while 0 means no hand written on that pixel."
      ]
    },
    {
      "metadata": {
        "id": "MOA_fKpZbWoO"
      },
      "cell_type": "code",
      "source": [
        "x_train = x_train.astype('float32')\n",
        "x_val = x_val.astype('float32')\n",
        "x_test = x_test.astype('float32')\n",
        "\n",
        "gray_scale = 255\n",
        "x_train /= gray_scale\n",
        "x_val /= gray_scale\n",
        "x_test /= gray_scale"
      ],
      "execution_count": 96,
      "outputs": []
    },
    {
      "metadata": {
        "id": "itH2eIVLbWoS"
      },
      "cell_type": "markdown",
      "source": [
        "### label to one hot encoding value\n",
        "In order to measure difference between softmax output and target,  \n",
        "target value need to be one hot encoding."
      ]
    },
    {
      "metadata": {
        "id": "XpCt1Em4bWoT"
      },
      "cell_type": "code",
      "source": [
        "num_classes = 10\n",
        "y_train = tf.keras.utils.to_categorical(y_train, num_classes)\n",
        "y_val = tf.keras.utils.to_categorical(y_val, num_classes)\n",
        "y_test = tf.keras.utils.to_categorical(y_test, num_classes)"
      ],
      "execution_count": 97,
      "outputs": []
    },
    {
      "metadata": {
        "id": "8os2XX70bWoW"
      },
      "cell_type": "markdown",
      "source": [
        "### Implement CNN tensorflow graph"
      ]
    },
    {
      "metadata": {
        "id": "rwNwZg1PbWoX",
        "colab": {
          "base_uri": "https://localhost:8080/",
          "height": 221
        },
        "outputId": "f7b6e535-89ac-42a6-a11d-6a6118508caa"
      },
      "cell_type": "code",
      "source": [
        "Image(url= \"https://raw.githubusercontent.com/minsuk-heo/deeplearning/master/img/practice_cnn.png\", width=800, height=200)"
      ],
      "execution_count": 98,
      "outputs": [
        {
          "output_type": "execute_result",
          "data": {
            "text/html": [
              "<img src=\"https://raw.githubusercontent.com/minsuk-heo/deeplearning/master/img/practice_cnn.png\" width=\"800\" height=\"200\"/>"
            ],
            "text/plain": [
              "<IPython.core.display.Image object>"
            ]
          },
          "metadata": {},
          "execution_count": 98
        }
      ]
    },
    {
      "metadata": {
        "id": "pM6Ed8UHbWoa"
      },
      "cell_type": "markdown",
      "source": [
        "We use image itself (28 x 28) as input of CNN.\n",
        "Target will be number between 0 to 9."
      ]
    },
    {
      "metadata": {
        "id": "mFPJqnZKbWob"
      },
      "cell_type": "code",
      "source": [
        "x = tf.placeholder(tf.float32, shape=[None, 28, 28, 1])\n",
        "y_ = tf.placeholder(tf.float32, shape=[None, 10])"
      ],
      "execution_count": 99,
      "outputs": []
    },
    {
      "metadata": {
        "id": "76JxIb_cbWog"
      },
      "cell_type": "markdown",
      "source": [
        "We initialize parameters near 0.  \n",
        "The point for using **truncated normal** is to overcome saturation of sigmoid in softmax (where if the value is too big/small, the neuron stops learning).  \n",
        "tf.truncated_normal() selects random numbers from a normal distribution whose mean is close to 0 and values are close to 0 Ex. -0.1 to 0.1.  \n",
        "It's called truncated because your cutting off the tails from a normal distribution.  \n",
        "**tf.random_normal()** selects random numbers from a normal distribution whose mean is close to 0; however the values can be a bit further apart. Ex. -2 to 2  "
      ]
    },
    {
      "metadata": {
        "id": "RBSvzmm7bWoh"
      },
      "cell_type": "code",
      "source": [
        "def weight_variable(shape):\n",
        "  initial = tf.truncated_normal(shape, stddev=0.1)\n",
        "  return tf.Variable(initial)\n",
        "\n",
        "def bias_variable(shape):\n",
        "  initial = tf.constant(0.1, shape=shape)\n",
        "  return tf.Variable(initial)"
      ],
      "execution_count": 100,
      "outputs": []
    },
    {
      "metadata": {
        "id": "TpUSKZEObWoo"
      },
      "cell_type": "markdown",
      "source": [
        "**Same padding** means the size of output feature-maps are the same as the input feature-maps.  \n",
        "For example, our MNIST has (28x28) shape, so the output will also (28,28) shape."
      ]
    },
    {
      "metadata": {
        "id": "68AnW-IYbWop"
      },
      "cell_type": "code",
      "source": [
        "def conv2d(x, W):\n",
        "  return tf.nn.conv2d(x, W, strides=[1, 1, 1, 1], padding='SAME')\n",
        "\n",
        "def max_pool_2x2(x):\n",
        "  return tf.nn.max_pool(x, ksize=[1, 2, 2, 1],\n",
        "                        strides=[1, 2, 2, 1], padding='SAME')"
      ],
      "execution_count": 101,
      "outputs": []
    },
    {
      "metadata": {
        "id": "N9mz2NlUbWos"
      },
      "cell_type": "markdown",
      "source": [
        "First Convolutional Layer has 16 filters with size 5 by 5.  "
      ]
    },
    {
      "metadata": {
        "id": "zdu6FgrKbWot"
      },
      "cell_type": "code",
      "source": [
        "W_conv1 = weight_variable([5, 5, 1, 16])\n",
        "b_conv1 = bias_variable([16])"
      ],
      "execution_count": 102,
      "outputs": []
    },
    {
      "metadata": {
        "id": "jRCcLTuFbWox"
      },
      "cell_type": "markdown",
      "source": [
        "We use Relu activation funtion. Activation function brings non linearity in the model."
      ]
    },
    {
      "metadata": {
        "id": "RSe_XwBFbWo0"
      },
      "cell_type": "code",
      "source": [
        "h_conv1 = tf.nn.relu(conv2d(x, W_conv1) + b_conv1)"
      ],
      "execution_count": 103,
      "outputs": []
    },
    {
      "metadata": {
        "id": "2WOB-QxzbWo5"
      },
      "cell_type": "markdown",
      "source": [
        "After Convolutional Layer, we apply Pooling layer to reduce activation map size.  \n",
        "Pooling layer will reduce parameters and control overfitting."
      ]
    },
    {
      "metadata": {
        "id": "tGbCLuHxbWo6"
      },
      "cell_type": "code",
      "source": [
        "h_pool1 = max_pool_2x2(h_conv1)"
      ],
      "execution_count": 104,
      "outputs": []
    },
    {
      "metadata": {
        "id": "qqs5wMt2bWo8"
      },
      "cell_type": "markdown",
      "source": [
        "After Max Pooling, now we have (14,14) input shape.  \n",
        "Here we have second Convolutional layer."
      ]
    },
    {
      "metadata": {
        "id": "8USAiZ3fbWo_"
      },
      "cell_type": "code",
      "source": [
        "W_conv2 = weight_variable([5, 5, 16, 32])\n",
        "b_conv2 = bias_variable([32])\n",
        "\n",
        "h_conv2 = tf.nn.relu(conv2d(h_pool1, W_conv2) + b_conv2)\n",
        "h_pool2 = max_pool_2x2(h_conv2)"
      ],
      "execution_count": 105,
      "outputs": []
    },
    {
      "metadata": {
        "id": "0u6672_tbWpC"
      },
      "cell_type": "markdown",
      "source": [
        "After Max Pooling, now we have (7,7) input shape.\n",
        "#### FC (Fully Connected Layer)\n",
        "here is FC where we use activation maps from CONV as features for digit classification.  \n",
        "You can find, we flatten the activation map pixels to one array in order to input to FC."
      ]
    },
    {
      "metadata": {
        "id": "8Ax3SDLSbWpD"
      },
      "cell_type": "code",
      "source": [
        "W_fc1 = weight_variable([7 * 7 * 32, 128])\n",
        "b_fc1 = bias_variable([128])\n",
        "\n",
        "h_pool2_flat = tf.reshape(h_pool2, [-1, 7*7*32])\n",
        "h_fc1 = tf.nn.relu(tf.matmul(h_pool2_flat, W_fc1) + b_fc1)"
      ],
      "execution_count": 106,
      "outputs": []
    },
    {
      "metadata": {
        "id": "urkUWe43bWpF"
      },
      "cell_type": "markdown",
      "source": [
        "FC has two hidden layers. first hidden layer has 128 nodes, and second hidden layer has 10 nodes in order to match with our target range 0 to 9."
      ]
    },
    {
      "metadata": {
        "id": "LWAGaKNlbWpG"
      },
      "cell_type": "code",
      "source": [
        "W_fc2 = weight_variable([128, 10])\n",
        "b_fc2 = bias_variable([10])\n",
        "\n",
        "y_conv = tf.matmul(h_fc1, W_fc2) + b_fc2"
      ],
      "execution_count": 107,
      "outputs": []
    },
    {
      "metadata": {
        "id": "L_6siOFRbWpI"
      },
      "cell_type": "markdown",
      "source": [
        "We will use cross entropy as our loss function."
      ]
    },
    {
      "metadata": {
        "id": "YLJdQsUQbWpI"
      },
      "cell_type": "code",
      "source": [
        "cross_entropy = tf.reduce_mean(\n",
        "    tf.nn.softmax_cross_entropy_with_logits_v2(labels=y_, logits=y_conv))"
      ],
      "execution_count": 108,
      "outputs": []
    },
    {
      "metadata": {
        "id": "DD4DjdgXbWpK"
      },
      "cell_type": "markdown",
      "source": [
        "We will use Adam Optimizer as our parameters optimizer."
      ]
    },
    {
      "metadata": {
        "id": "uln7jfQybWpO"
      },
      "cell_type": "code",
      "source": [
        "train_step = tf.train.AdamOptimizer(0.001).minimize(cross_entropy)"
      ],
      "execution_count": 109,
      "outputs": []
    },
    {
      "metadata": {
        "id": "f0i7r7x9bWpR"
      },
      "cell_type": "markdown",
      "source": [
        "Accuracy will be from below code block."
      ]
    },
    {
      "metadata": {
        "id": "eSwsGS7HbWpS"
      },
      "cell_type": "code",
      "source": [
        "correct_prediction = tf.equal(tf.argmax(y_conv,1), tf.argmax(y_,1))\n",
        "accuracy = tf.reduce_mean(tf.cast(correct_prediction, tf.float32))"
      ],
      "execution_count": 110,
      "outputs": []
    },
    {
      "metadata": {
        "id": "eSFO-pctbWpW"
      },
      "cell_type": "markdown",
      "source": [
        "#### Train and Test\n",
        "Here we go.  \n",
        "We will perform 3 epoches.  \n",
        "Using Mini Batch, we will optimize parameters everytime we pass 500 train data to the model."
      ]
    },
    {
      "metadata": {
        "id": "o-COZsSnbWpX",
        "colab": {
          "base_uri": "https://localhost:8080/"
        },
        "outputId": "0083a4ed-6795-4561-c026-0d0f042075a3"
      },
      "cell_type": "code",
      "source": [
        "# initialize\n",
        "init = tf.global_variables_initializer()\n",
        "\n",
        "# train hyperparameters\n",
        "epoch_cnt = 3\n",
        "batch_size = 500\n",
        "iteration = len(x_train) // batch_size\n",
        "\n",
        "# Start training\n",
        "with tf.Session() as sess:\n",
        "    tf.set_random_seed(777)\n",
        "    # Run the initializer\n",
        "    sess.run(init)\n",
        "    for epoch in range(epoch_cnt):\n",
        "        avg_loss = 0.\n",
        "        start = 0; end = batch_size\n",
        "        \n",
        "        for i in range(iteration):\n",
        "            if i%10 == 0:\n",
        "                train_accuracy = accuracy.eval(feed_dict={x:x_train[start: end], y_: y_train[start: end]})\n",
        "                print(\"step \"+ str(i) + \": training accuracy: \"+str(train_accuracy))\n",
        "            train_step.run(feed_dict={x:x_train[start: end], y_: y_train[start: end]})\n",
        "            start += batch_size; end += batch_size    \n",
        "        \n",
        "        # Validate model\n",
        "        val_accuracy = accuracy.eval(feed_dict={x:x_val, y_: y_val})\n",
        "        print(\"validation accuracy: \"+str(val_accuracy))\n",
        "        \n",
        "    test_accuracy = accuracy.eval(feed_dict={x:x_test, y_: y_test}) \n",
        "    print(\"test accuracy: \"+str(test_accuracy))"
      ],
      "execution_count": 111,
      "outputs": [
        {
          "output_type": "stream",
          "name": "stdout",
          "text": [
            "step 0: training accuracy: 0.068\n",
            "step 10: training accuracy: 0.57\n",
            "step 20: training accuracy: 0.752\n",
            "step 30: training accuracy: 0.816\n",
            "step 40: training accuracy: 0.874\n",
            "step 50: training accuracy: 0.892\n",
            "step 60: training accuracy: 0.926\n",
            "step 70: training accuracy: 0.936\n",
            "step 80: training accuracy: 0.948\n",
            "step 90: training accuracy: 0.926\n",
            "validation accuracy: 0.9467\n",
            "step 0: training accuracy: 0.946\n",
            "step 10: training accuracy: 0.938\n",
            "step 20: training accuracy: 0.948\n",
            "step 30: training accuracy: 0.95\n",
            "step 40: training accuracy: 0.966\n",
            "step 50: training accuracy: 0.96\n",
            "step 60: training accuracy: 0.966\n",
            "step 70: training accuracy: 0.964\n",
            "step 80: training accuracy: 0.964\n",
            "step 90: training accuracy: 0.968\n",
            "validation accuracy: 0.9729\n",
            "step 0: training accuracy: 0.968\n",
            "step 10: training accuracy: 0.97\n",
            "step 20: training accuracy: 0.956\n",
            "step 30: training accuracy: 0.962\n",
            "step 40: training accuracy: 0.974\n",
            "step 50: training accuracy: 0.98\n",
            "step 60: training accuracy: 0.984\n",
            "step 70: training accuracy: 0.97\n",
            "step 80: training accuracy: 0.98\n",
            "step 90: training accuracy: 0.98\n",
            "validation accuracy: 0.9773\n",
            "test accuracy: 0.976\n"
          ]
        }
      ]
    },
    {
      "metadata": {
        "id": "eyaoW19UbWpc"
      },
      "cell_type": "markdown",
      "source": [
        "You got test accuracy **97.4%** with even just **3** epoches.\n",
        "I wish you enjoyed learning CNN. Thanks!"
      ]
    },
    {
      "metadata": {
        "id": "K9jBAidwbWpd"
      },
      "cell_type": "code",
      "source": [],
      "execution_count": 111,
      "outputs": []
    }
  ]
}
